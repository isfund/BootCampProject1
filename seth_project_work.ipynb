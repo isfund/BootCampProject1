{
 "cells": [
  {
   "cell_type": "code",
   "execution_count": 144,
   "metadata": {},
   "outputs": [],
   "source": [
    "import csv\n",
    "import pandas as pd\n",
    "import matplotlib.pyplot as plt\n",
    "import numpy as np\n",
    "from scipy import stats\n",
    "from scipy.stats import linregress\n",
    "\n",
    "mortgage_data_path = \"/Users/ylsstudent/Documents/Data_Analytics_Bootcamp/Projects/BootCampProject1/resources/MORTGAGE30US.csv\""
   ]
  },
  {
   "cell_type": "code",
   "execution_count": 2,
   "metadata": {},
   "outputs": [],
   "source": [
    "mortgage_df = pd.read_csv(mortgage_data_path)"
   ]
  },
  {
   "cell_type": "code",
   "execution_count": 3,
   "metadata": {},
   "outputs": [
    {
     "data": {
      "text/plain": [
       "DATE             object\n",
       "MORTGAGE30US    float64\n",
       "dtype: object"
      ]
     },
     "execution_count": 3,
     "metadata": {},
     "output_type": "execute_result"
    }
   ],
   "source": [
    "mortgage_df.dtypes"
   ]
  },
  {
   "cell_type": "code",
   "execution_count": 52,
   "metadata": {},
   "outputs": [],
   "source": [
    "mortgage_df[\"DATE\"] = pd.to_datetime(mortgage_df[\"DATE\"])"
   ]
  },
  {
   "cell_type": "code",
   "execution_count": 54,
   "metadata": {},
   "outputs": [],
   "source": [
    "mortgage_df[\"YEAR\"] = mortgage_df[\"DATE\"].dt.year"
   ]
  },
  {
   "cell_type": "code",
   "execution_count": null,
   "metadata": {},
   "outputs": [],
   "source": []
  },
  {
   "cell_type": "code",
   "execution_count": 57,
   "metadata": {},
   "outputs": [
    {
     "data": {
      "text/html": [
       "<div>\n",
       "<style scoped>\n",
       "    .dataframe tbody tr th:only-of-type {\n",
       "        vertical-align: middle;\n",
       "    }\n",
       "\n",
       "    .dataframe tbody tr th {\n",
       "        vertical-align: top;\n",
       "    }\n",
       "\n",
       "    .dataframe thead th {\n",
       "        text-align: right;\n",
       "    }\n",
       "</style>\n",
       "<table border=\"1\" class=\"dataframe\">\n",
       "  <thead>\n",
       "    <tr style=\"text-align: right;\">\n",
       "      <th></th>\n",
       "      <th>Year</th>\n",
       "      <th>Average Mortgage</th>\n",
       "    </tr>\n",
       "  </thead>\n",
       "  <tbody>\n",
       "    <tr>\n",
       "      <th>0</th>\n",
       "      <td>1971</td>\n",
       "      <td>7.541750</td>\n",
       "    </tr>\n",
       "    <tr>\n",
       "      <th>1</th>\n",
       "      <td>1972</td>\n",
       "      <td>7.383269</td>\n",
       "    </tr>\n",
       "    <tr>\n",
       "      <th>2</th>\n",
       "      <td>1973</td>\n",
       "      <td>8.044808</td>\n",
       "    </tr>\n",
       "    <tr>\n",
       "      <th>3</th>\n",
       "      <td>1974</td>\n",
       "      <td>9.187115</td>\n",
       "    </tr>\n",
       "    <tr>\n",
       "      <th>4</th>\n",
       "      <td>1975</td>\n",
       "      <td>9.047115</td>\n",
       "    </tr>\n",
       "  </tbody>\n",
       "</table>\n",
       "</div>"
      ],
      "text/plain": [
       "   Year  Average Mortgage\n",
       "0  1971          7.541750\n",
       "1  1972          7.383269\n",
       "2  1973          8.044808\n",
       "3  1974          9.187115\n",
       "4  1975          9.047115"
      ]
     },
     "execution_count": 57,
     "metadata": {},
     "output_type": "execute_result"
    }
   ],
   "source": [
    "average_mortgage_by_year = mortgage_df.groupby(\"YEAR\")[\"MORTGAGE30US\"].mean().reset_index()\n",
    "median_mortgage_by_year = mortgage_df.groupby(\"YEAR\")[\"MORTGAGE30US\"].median().reset_index()\n",
    "\n",
    "average_mortgage_by_year.rename(columns={\"MORTGAGE30US\": \"Average Mortgage\"}, inplace=True)\n",
    "median_mortgage_by_year.rename(columns={'MORTGAGE30US': 'Median Mortgage'}, inplace=True)\n",
    "\n",
    "average_mortgage_by_year.rename(columns={\"YEAR\": \"Year\"}, inplace=True)\n",
    "median_mortgage_by_year.rename(columns={'YEAR': 'Year'}, inplace=True)\n",
    "\n",
    "average_mortgage_by_year.head()"
   ]
  },
  {
   "cell_type": "code",
   "execution_count": null,
   "metadata": {},
   "outputs": [],
   "source": []
  },
  {
   "cell_type": "code",
   "execution_count": 60,
   "metadata": {},
   "outputs": [
    {
     "data": {
      "text/plain": [
       "Year                           int64\n",
       "Total                         object\n",
       "0 to 4 years (Elementary)     object\n",
       "5 to 8 years (Elementary)     object\n",
       "1 to 3 years (High School)    object\n",
       "4 years (High School)         object\n",
       "1 to 3 years (College)        object\n",
       "4 years or more (College)     object\n",
       "dtype: object"
      ]
     },
     "execution_count": 60,
     "metadata": {},
     "output_type": "execute_result"
    }
   ],
   "source": [
    "education_data_path = \"/Users/ylsstudent/Documents/Data_Analytics_Bootcamp/Projects/BootCampProject1/resources/Years of School Completed by People 25 Years and Over.csv\"\n",
    "\n",
    "education_df = pd.read_csv(education_data_path)\n",
    "\n",
    "education_df.dtypes"
   ]
  },
  {
   "cell_type": "code",
   "execution_count": 62,
   "metadata": {},
   "outputs": [
    {
     "data": {
      "text/html": [
       "<div>\n",
       "<style scoped>\n",
       "    .dataframe tbody tr th:only-of-type {\n",
       "        vertical-align: middle;\n",
       "    }\n",
       "\n",
       "    .dataframe tbody tr th {\n",
       "        vertical-align: top;\n",
       "    }\n",
       "\n",
       "    .dataframe thead th {\n",
       "        text-align: right;\n",
       "    }\n",
       "</style>\n",
       "<table border=\"1\" class=\"dataframe\">\n",
       "  <thead>\n",
       "    <tr style=\"text-align: right;\">\n",
       "      <th></th>\n",
       "      <th>Year</th>\n",
       "      <th>Total</th>\n",
       "      <th>0 to 4 years (Elementary)</th>\n",
       "      <th>5 to 8 years (Elementary)</th>\n",
       "      <th>1 to 3 years (High School)</th>\n",
       "      <th>4 years (High School)</th>\n",
       "      <th>1 to 3 years (College)</th>\n",
       "      <th>4 years or more (College)</th>\n",
       "    </tr>\n",
       "  </thead>\n",
       "  <tbody>\n",
       "    <tr>\n",
       "      <th>0</th>\n",
       "      <td>2022.0</td>\n",
       "      <td>226274.0</td>\n",
       "      <td>2203.0</td>\n",
       "      <td>5732.0</td>\n",
       "      <td>11998.0</td>\n",
       "      <td>64465.0</td>\n",
       "      <td>56659.0</td>\n",
       "      <td>85217.0</td>\n",
       "    </tr>\n",
       "    <tr>\n",
       "      <th>1</th>\n",
       "      <td>2021.0</td>\n",
       "      <td>224580.0</td>\n",
       "      <td>2074.0</td>\n",
       "      <td>5862.0</td>\n",
       "      <td>12118.0</td>\n",
       "      <td>62547.0</td>\n",
       "      <td>56942.0</td>\n",
       "      <td>85037.0</td>\n",
       "    </tr>\n",
       "    <tr>\n",
       "      <th>2</th>\n",
       "      <td>2020.0</td>\n",
       "      <td>223058.0</td>\n",
       "      <td>2106.0</td>\n",
       "      <td>5788.0</td>\n",
       "      <td>12313.0</td>\n",
       "      <td>61597.0</td>\n",
       "      <td>57552.0</td>\n",
       "      <td>83701.0</td>\n",
       "    </tr>\n",
       "    <tr>\n",
       "      <th>3</th>\n",
       "      <td>2019.0</td>\n",
       "      <td>221478.0</td>\n",
       "      <td>2181.0</td>\n",
       "      <td>6422.0</td>\n",
       "      <td>13372.0</td>\n",
       "      <td>62259.0</td>\n",
       "      <td>57428.0</td>\n",
       "      <td>79816.0</td>\n",
       "    </tr>\n",
       "    <tr>\n",
       "      <th>4</th>\n",
       "      <td>2018.0</td>\n",
       "      <td>219830.0</td>\n",
       "      <td>2129.0</td>\n",
       "      <td>6600.0</td>\n",
       "      <td>13682.0</td>\n",
       "      <td>62685.0</td>\n",
       "      <td>57810.0</td>\n",
       "      <td>76924.0</td>\n",
       "    </tr>\n",
       "  </tbody>\n",
       "</table>\n",
       "</div>"
      ],
      "text/plain": [
       "     Year     Total  0 to 4 years (Elementary)  5 to 8 years (Elementary)  \\\n",
       "0  2022.0  226274.0                     2203.0                     5732.0   \n",
       "1  2021.0  224580.0                     2074.0                     5862.0   \n",
       "2  2020.0  223058.0                     2106.0                     5788.0   \n",
       "3  2019.0  221478.0                     2181.0                     6422.0   \n",
       "4  2018.0  219830.0                     2129.0                     6600.0   \n",
       "\n",
       "   1 to 3 years (High School)  4 years (High School)  1 to 3 years (College)  \\\n",
       "0                     11998.0                64465.0                 56659.0   \n",
       "1                     12118.0                62547.0                 56942.0   \n",
       "2                     12313.0                61597.0                 57552.0   \n",
       "3                     13372.0                62259.0                 57428.0   \n",
       "4                     13682.0                62685.0                 57810.0   \n",
       "\n",
       "   4 years or more (College)  \n",
       "0                    85217.0  \n",
       "1                    85037.0  \n",
       "2                    83701.0  \n",
       "3                    79816.0  \n",
       "4                    76924.0  "
      ]
     },
     "execution_count": 62,
     "metadata": {},
     "output_type": "execute_result"
    }
   ],
   "source": [
    "for column in education_df.columns:\n",
    "    education_df[column] = education_df[column].astype(str).str.replace(\",\", \"\").astype(float)\n",
    "\n",
    "education_df.head()"
   ]
  },
  {
   "cell_type": "code",
   "execution_count": 64,
   "metadata": {},
   "outputs": [],
   "source": [
    "education_percentage_df = education_df.copy()"
   ]
  },
  {
   "cell_type": "code",
   "execution_count": 66,
   "metadata": {},
   "outputs": [
    {
     "data": {
      "text/html": [
       "<div>\n",
       "<style scoped>\n",
       "    .dataframe tbody tr th:only-of-type {\n",
       "        vertical-align: middle;\n",
       "    }\n",
       "\n",
       "    .dataframe tbody tr th {\n",
       "        vertical-align: top;\n",
       "    }\n",
       "\n",
       "    .dataframe thead th {\n",
       "        text-align: right;\n",
       "    }\n",
       "</style>\n",
       "<table border=\"1\" class=\"dataframe\">\n",
       "  <thead>\n",
       "    <tr style=\"text-align: right;\">\n",
       "      <th></th>\n",
       "      <th>Year</th>\n",
       "      <th>Total</th>\n",
       "      <th>0 to 4 years (Elementary)</th>\n",
       "      <th>5 to 8 years (Elementary)</th>\n",
       "      <th>1 to 3 years (High School)</th>\n",
       "      <th>4 years (High School)</th>\n",
       "      <th>1 to 3 years (College)</th>\n",
       "      <th>4 years or more (College)</th>\n",
       "    </tr>\n",
       "  </thead>\n",
       "  <tbody>\n",
       "    <tr>\n",
       "      <th>0</th>\n",
       "      <td>2022.0</td>\n",
       "      <td>226274.0</td>\n",
       "      <td>0.973598</td>\n",
       "      <td>2.533212</td>\n",
       "      <td>5.302421</td>\n",
       "      <td>28.489796</td>\n",
       "      <td>25.039996</td>\n",
       "      <td>37.660977</td>\n",
       "    </tr>\n",
       "    <tr>\n",
       "      <th>1</th>\n",
       "      <td>2021.0</td>\n",
       "      <td>224580.0</td>\n",
       "      <td>0.923502</td>\n",
       "      <td>2.610206</td>\n",
       "      <td>5.395850</td>\n",
       "      <td>27.850655</td>\n",
       "      <td>25.354885</td>\n",
       "      <td>37.864903</td>\n",
       "    </tr>\n",
       "    <tr>\n",
       "      <th>2</th>\n",
       "      <td>2020.0</td>\n",
       "      <td>223058.0</td>\n",
       "      <td>0.944149</td>\n",
       "      <td>2.594841</td>\n",
       "      <td>5.520089</td>\n",
       "      <td>27.614791</td>\n",
       "      <td>25.801361</td>\n",
       "      <td>37.524321</td>\n",
       "    </tr>\n",
       "    <tr>\n",
       "      <th>3</th>\n",
       "      <td>2019.0</td>\n",
       "      <td>221478.0</td>\n",
       "      <td>0.984748</td>\n",
       "      <td>2.899611</td>\n",
       "      <td>6.037620</td>\n",
       "      <td>28.110693</td>\n",
       "      <td>25.929438</td>\n",
       "      <td>36.037891</td>\n",
       "    </tr>\n",
       "    <tr>\n",
       "      <th>4</th>\n",
       "      <td>2018.0</td>\n",
       "      <td>219830.0</td>\n",
       "      <td>0.968476</td>\n",
       "      <td>3.002320</td>\n",
       "      <td>6.223900</td>\n",
       "      <td>28.515216</td>\n",
       "      <td>26.297594</td>\n",
       "      <td>34.992494</td>\n",
       "    </tr>\n",
       "  </tbody>\n",
       "</table>\n",
       "</div>"
      ],
      "text/plain": [
       "     Year     Total  0 to 4 years (Elementary)  5 to 8 years (Elementary)  \\\n",
       "0  2022.0  226274.0                   0.973598                   2.533212   \n",
       "1  2021.0  224580.0                   0.923502                   2.610206   \n",
       "2  2020.0  223058.0                   0.944149                   2.594841   \n",
       "3  2019.0  221478.0                   0.984748                   2.899611   \n",
       "4  2018.0  219830.0                   0.968476                   3.002320   \n",
       "\n",
       "   1 to 3 years (High School)  4 years (High School)  1 to 3 years (College)  \\\n",
       "0                    5.302421              28.489796               25.039996   \n",
       "1                    5.395850              27.850655               25.354885   \n",
       "2                    5.520089              27.614791               25.801361   \n",
       "3                    6.037620              28.110693               25.929438   \n",
       "4                    6.223900              28.515216               26.297594   \n",
       "\n",
       "   4 years or more (College)  \n",
       "0                  37.660977  \n",
       "1                  37.864903  \n",
       "2                  37.524321  \n",
       "3                  36.037891  \n",
       "4                  34.992494  "
      ]
     },
     "execution_count": 66,
     "metadata": {},
     "output_type": "execute_result"
    }
   ],
   "source": [
    "for column in education_percentage_df.columns[2:]:\n",
    "    education_percentage_df[column] = education_percentage_df[column] / education_percentage_df[\"Total\"] * 100\n",
    "\n",
    "education_percentage_df.head()"
   ]
  },
  {
   "cell_type": "code",
   "execution_count": 68,
   "metadata": {},
   "outputs": [],
   "source": [
    "homes_data = \"/Users/ylsstudent/Documents/Data_Analytics_Bootcamp/Projects/BootCampProject1/resources/Number_Houses_Sold.csv\""
   ]
  },
  {
   "cell_type": "code",
   "execution_count": 70,
   "metadata": {},
   "outputs": [
    {
     "data": {
      "text/plain": [
       "Year           float64\n",
       "Total (USA)     object\n",
       "Northeast      float64\n",
       "MidWest        float64\n",
       "South          float64\n",
       "West           float64\n",
       "dtype: object"
      ]
     },
     "execution_count": 70,
     "metadata": {},
     "output_type": "execute_result"
    }
   ],
   "source": [
    "homes_df = pd.read_csv(homes_data)\n",
    "homes_df.dtypes"
   ]
  },
  {
   "cell_type": "code",
   "execution_count": 72,
   "metadata": {},
   "outputs": [
    {
     "data": {
      "text/html": [
       "<div>\n",
       "<style scoped>\n",
       "    .dataframe tbody tr th:only-of-type {\n",
       "        vertical-align: middle;\n",
       "    }\n",
       "\n",
       "    .dataframe tbody tr th {\n",
       "        vertical-align: top;\n",
       "    }\n",
       "\n",
       "    .dataframe thead th {\n",
       "        text-align: right;\n",
       "    }\n",
       "</style>\n",
       "<table border=\"1\" class=\"dataframe\">\n",
       "  <thead>\n",
       "    <tr style=\"text-align: right;\">\n",
       "      <th></th>\n",
       "      <th>Year</th>\n",
       "      <th>Total (USA)</th>\n",
       "      <th>Northeast</th>\n",
       "      <th>MidWest</th>\n",
       "      <th>South</th>\n",
       "      <th>West</th>\n",
       "    </tr>\n",
       "  </thead>\n",
       "  <tbody>\n",
       "    <tr>\n",
       "      <th>0</th>\n",
       "      <td>1963.0</td>\n",
       "      <td>560</td>\n",
       "      <td>87.0</td>\n",
       "      <td>134.0</td>\n",
       "      <td>199.0</td>\n",
       "      <td>141.0</td>\n",
       "    </tr>\n",
       "    <tr>\n",
       "      <th>1</th>\n",
       "      <td>1964.0</td>\n",
       "      <td>565</td>\n",
       "      <td>90.0</td>\n",
       "      <td>146.0</td>\n",
       "      <td>200.0</td>\n",
       "      <td>129.0</td>\n",
       "    </tr>\n",
       "    <tr>\n",
       "      <th>2</th>\n",
       "      <td>1965.0</td>\n",
       "      <td>575</td>\n",
       "      <td>94.0</td>\n",
       "      <td>142.0</td>\n",
       "      <td>210.0</td>\n",
       "      <td>129.0</td>\n",
       "    </tr>\n",
       "    <tr>\n",
       "      <th>3</th>\n",
       "      <td>1966.0</td>\n",
       "      <td>461</td>\n",
       "      <td>84.0</td>\n",
       "      <td>113.0</td>\n",
       "      <td>166.0</td>\n",
       "      <td>99.0</td>\n",
       "    </tr>\n",
       "    <tr>\n",
       "      <th>4</th>\n",
       "      <td>1967.0</td>\n",
       "      <td>487</td>\n",
       "      <td>77.0</td>\n",
       "      <td>112.0</td>\n",
       "      <td>179.0</td>\n",
       "      <td>119.0</td>\n",
       "    </tr>\n",
       "  </tbody>\n",
       "</table>\n",
       "</div>"
      ],
      "text/plain": [
       "     Year Total (USA)  Northeast  MidWest  South   West\n",
       "0  1963.0         560       87.0    134.0  199.0  141.0\n",
       "1  1964.0         565       90.0    146.0  200.0  129.0\n",
       "2  1965.0         575       94.0    142.0  210.0  129.0\n",
       "3  1966.0         461       84.0    113.0  166.0   99.0\n",
       "4  1967.0         487       77.0    112.0  179.0  119.0"
      ]
     },
     "execution_count": 72,
     "metadata": {},
     "output_type": "execute_result"
    }
   ],
   "source": [
    "homes_df.head()"
   ]
  },
  {
   "cell_type": "code",
   "execution_count": 98,
   "metadata": {},
   "outputs": [
    {
     "data": {
      "text/plain": [
       "Year           float64\n",
       "Total (USA)    float64\n",
       "Northeast      float64\n",
       "MidWest        float64\n",
       "South          float64\n",
       "West           float64\n",
       "dtype: object"
      ]
     },
     "execution_count": 98,
     "metadata": {},
     "output_type": "execute_result"
    }
   ],
   "source": [
    "for column in homes_df.columns:\n",
    "    homes_df[column] = homes_df[column].astype(str).str.replace(\",\", \"\").astype(float)\n",
    "homes_df.dtypes"
   ]
  },
  {
   "cell_type": "code",
   "execution_count": 100,
   "metadata": {},
   "outputs": [
    {
     "data": {
      "image/png": "[encoded data removed]",
      "text/plain": [
       "<Figure size 1000x600 with 1 Axes>"
      ]
     },
     "metadata": {},
     "output_type": "display_data"
    }
   ],
   "source": [
    "med_avg_merged = pd.merge(average_mortgage_by_year, median_mortgage_by_year, on='Year')\n",
    "\n",
    "plt.figure(figsize=(10, 6))\n",
    "plt.plot(med_avg_merged['Year'], med_avg_merged['Average Mortgage'], marker='o', label='Average Mortgage')\n",
    "plt.plot(med_avg_merged['Year'], med_avg_merged['Median Mortgage'], marker='*', label='Median Mortgage')\n",
    "plt.xlabel('Year')\n",
    "plt.ylabel('Mortgage Value')\n",
    "plt.title('Average and Median Mortgage by Year')\n",
    "plt.legend()\n",
    "plt.grid(True)\n",
    "plt.show()"
   ]
  },
  {
   "cell_type": "code",
   "execution_count": 102,
   "metadata": {},
   "outputs": [],
   "source": [
    "homes_mortgage_merge = pd.merge(average_mortgage_by_year, homes_df, on=\"Year\")\n",
    "\n",
    "corr_mort_homes = homes_mortgage_merge[[\"Average Mortgage\", \"Total (USA)\"]].corr()"
   ]
  },
  {
   "cell_type": "code",
   "execution_count": 104,
   "metadata": {},
   "outputs": [
    {
     "data": {
      "text/html": [
       "<div>\n",
       "<style scoped>\n",
       "    .dataframe tbody tr th:only-of-type {\n",
       "        vertical-align: middle;\n",
       "    }\n",
       "\n",
       "    .dataframe tbody tr th {\n",
       "        vertical-align: top;\n",
       "    }\n",
       "\n",
       "    .dataframe thead th {\n",
       "        text-align: right;\n",
       "    }\n",
       "</style>\n",
       "<table border=\"1\" class=\"dataframe\">\n",
       "  <thead>\n",
       "    <tr style=\"text-align: right;\">\n",
       "      <th></th>\n",
       "      <th>Average Mortgage</th>\n",
       "      <th>Total (USA)</th>\n",
       "    </tr>\n",
       "  </thead>\n",
       "  <tbody>\n",
       "    <tr>\n",
       "      <th>Average Mortgage</th>\n",
       "      <td>1.000000</td>\n",
       "      <td>-0.094944</td>\n",
       "    </tr>\n",
       "    <tr>\n",
       "      <th>Total (USA)</th>\n",
       "      <td>-0.094944</td>\n",
       "      <td>1.000000</td>\n",
       "    </tr>\n",
       "  </tbody>\n",
       "</table>\n",
       "</div>"
      ],
      "text/plain": [
       "                  Average Mortgage  Total (USA)\n",
       "Average Mortgage          1.000000    -0.094944\n",
       "Total (USA)              -0.094944     1.000000"
      ]
     },
     "execution_count": 104,
     "metadata": {},
     "output_type": "execute_result"
    }
   ],
   "source": [
    "corr_mort_homes"
   ]
  },
  {
   "cell_type": "code",
   "execution_count": 154,
   "metadata": {},
   "outputs": [
    {
     "name": "stderr",
     "output_type": "stream",
     "text": [
      "No artists with labels found to put in legend.  Note that artists whose label start with an underscore are ignored when legend() is called with no argument.\n"
     ]
    },
    {
     "data": {
      "image/png": "[encoded data removed]",
      "text/plain": [
       "<Figure size 1000x600 with 1 Axes>"
      ]
     },
     "metadata": {},
     "output_type": "display_data"
    }
   ],
   "source": [
    "x = homes_mortgage_merge[\"Average Mortgage\"]\n",
    "y = homes_mortgage_merge[\"Total (USA)\"]\n",
    "\n",
    "(slope, intercept, rvalue, pvalue, stderr) = linregress(x, y)\n",
    "plt.figure(figsize=(10, 6))\n",
    "plt.scatter(x, y, color='blue')\n",
    "plt.plot(x, slope * x + intercept, color = \"red\")\n",
    "plt.title(\"Correlation between Average Mortgage Rate and Total Number of Homes Bought\")\n",
    "plt.xlabel(\"Average Mortgage Rate\")\n",
    "plt.ylabel(\"Total Number of Homes Bought\")\n",
    "plt.legend()\n",
    "\n",
    "# Show the plot\n",
    "plt.show()"
   ]
  },
  {
   "cell_type": "code",
   "execution_count": 169,
   "metadata": {},
   "outputs": [
    {
     "name": "stdout",
     "output_type": "stream",
     "text": [
      "Elementary (0 to 4 years) R-squared: 0.06542456020007051\n",
      "Elementary (5 to 8 years) R-squared: 0.060935591994947656\n",
      "High School (1 to 3 years) R-squared: 0.005885112923703568\n",
      "High School (4 years) R-squared: 0.044178946742797334\n",
      "College (1 to 3 years) R-squared: 0.0383931496451651\n",
      "College (4 or more years) R-squared: 0.016004236573359424\n"
     ]
    }
   ],
   "source": [
    "education_homes_df = pd.merge(education_df, homes_df, on='Year')\n",
    "\n",
    "def perform_regression(x, y, label):\n",
    "    slope, intercept, r_value, p_value, std_err = stats.linregress(x, y)\n",
    "    print(f\"{label} R-squared: {r_value**2}\")\n",
    "\n",
    "perform_regression(education_homes_df['0 to 4 years (Elementary)'], education_homes_df['Total (USA)'], \"Elementary (0 to 4 years)\")\n",
    "perform_regression(education_homes_df['5 to 8 years (Elementary)'], education_homes_df['Total (USA)'], \"Elementary (5 to 8 years)\")\n",
    "perform_regression(education_homes_df['1 to 3 years (High School)'], education_homes_df['Total (USA)'], \"High School (1 to 3 years)\")\n",
    "perform_regression(education_homes_df['4 years (High School)'], education_homes_df['Total (USA)'], \"High School (4 years)\")\n",
    "perform_regression(education_homes_df['1 to 3 years (College)'], education_homes_df['Total (USA)'], \"College (1 to 3 years)\")\n",
    "perform_regression(education_homes_df['4 years or more (College)'], education_homes_df['Total (USA)'], \"College (4 or more years)\")"
   ]
  },
  {
   "cell_type": "code",
   "execution_count": null,
   "metadata": {},
   "outputs": [],
   "source": []
  },
  {
   "cell_type": "code",
   "execution_count": null,
   "metadata": {},
   "outputs": [],
   "source": []
  }
 ],
 "metadata": {
  "kernelspec": {
   "display_name": "Python 3 (ipykernel)",
   "language": "python",
   "name": "python3"
  },
  "language_info": {
   "codemirror_mode": {
    "name": "ipython",
    "version": 3
   },
   "file_extension": ".py",
   "mimetype": "text/x-python",
   "name": "python",
   "nbconvert_exporter": "python",
   "pygments_lexer": "ipython3",
   "version": "3.11.7"
  }
 },
 "nbformat": 4,
 "nbformat_minor": 4
}
