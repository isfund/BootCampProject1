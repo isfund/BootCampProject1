


import pandas as pd
import matplotlib.pyplot as plt
from sklearn.linear_model import LinearRegression
import numpy as np

# Load the dataset
file_path = 'Resources/average_student_loan_debt.csv' 
df_loans = pd.read_csv(file_path)

df_loans.head()


# Cleaning the dataset
df_loans.columns = df_loans.columns.str.strip()  # Remove extra spaces from column names
df_loans['Average Student Loan Debt'] = df_loans['Average Student Loan Debt'].str.replace(',', '').astype(float)  # Remove commas and convert to float



# Create the plot and add labels
plt.figure(figsize=(10, 6))
plt.plot(df_loans['Graduating Class'], df_loans['Average Student Loan Debt'], marker='o')

plt.title('Average Student Loan Debt Over Time')
plt.xlabel('Graduating Class')
plt.ylabel('Average Student Loan Debt ($)')
plt.grid(True)

plt.show()


# Load dataset #2 to work on the correlation analysis
file_pathtwo = 'Resources/number_houses_sold.csv' 
df = pd.read_csv(file_pathtwo)

df.head()


#Cleaning the dataset #2
df['Total by Regions'] = df[['Northeast', 'MidWest', 'South', 'West']].sum(axis=1)
df = df.dropna(subset=['Year'])
df['Year'] = df['Year'].astype(int)
print("Cleaned Data:")
print(df[['Year', 'Total by Regions']].head())



#average homes sold per year
average_total_by_year = df.groupby('Year')['Total by Regions'].mean().reset_index()

average_total_by_year.columns = ['Year', 'Average Total by Year (Thousands)']


print("Average Total by Year DataFrame:")
print(average_total_by_year)


#exporting the new dataset with the averages to csv
output_file_path = 'Resources/average_number_of_house_sold_by_year_output.csv'
average_total_by_year.to_csv(output_file_path, index=False)



#loading the new dataset
df_homes = pd.read_csv(output_file_path)
df_homes.head()


#Descriptive Statistics: 1. avg # of homes sold by year & 2. avg student loan debt by year
home_stats = df_homes.describe()
loan_stats = df_loans.describe()

home_stats, loan_stats


# Checking the unique years in each dataset
unique_years_homes = df_homes['Year'].unique()
unique_years_loans = df_loans['Graduating Class'].unique()

# Filter home sales data to match the years in the student loan debt data because for loans the dataset starts from 1993 where as for homes sold starts from 1963
df_homes_filtered = df_homes[df_homes['Year'].isin(unique_years_loans)]

# Merge the filtered data on the year columns
df_combined_filtered = pd.merge(df_homes_filtered, df_loans, left_on='Year', right_on='Graduating Class')

# making sure column is string type before replacing commas
if df_combined_filtered['Average Student Loan Debt'].dtype != 'object':
    df_combined_filtered['Average Student Loan Debt'] = df_combined_filtered['Average Student Loan Debt'].astype(str)

# Converting Average Student Loan Debt to numeric after replacing commas
df_combined_filtered['Average Student Loan Debt'] = pd.to_numeric(df_combined_filtered['Average Student Loan Debt'].str.replace(',', ''), errors='coerce')

# Sorting the data by Average Student Loan Debt to be used for plotting the regression line
df_combined_filtered = df_combined_filtered.sort_values('Average Student Loan Debt')




# Plot
plt.figure(figsize=(14, 8))
plt.plot(df_combined_filtered['Year'], df_combined_filtered['Average Total by Year (Thousands)'], marker='o', linestyle='-', color='blue', alpha=0.7, label='Number of Homes Sold')

# Annotate each data point with the corresponding average student loan debt
for i in range(df_combined_filtered.shape[0]):
    plt.text(df_combined_filtered['Year'].iloc[i], df_combined_filtered['Average Total by Year (Thousands)'].iloc[i] + 19, 
             f"{df_combined_filtered['Average Student Loan Debt'].iloc[i]:,.0f}", fontsize=10, 
             ha='center', va='bottom', color='darkgreen', rotation = 20)

# Calculate the regression line
X = df_combined_filtered['Year']
y = df_combined_filtered['Average Total by Year (Thousands)']
coefficients = np.polyfit(X, y, 1)
polynomial = np.poly1d(coefficients)
regression_line = polynomial(X)

# Plot the regression line
plt.plot(X, regression_line, color='red', linestyle='--', linewidth=2, alpha=0.7, label='Regression Line')

# Add grid
plt.grid(True, linestyle='--', alpha=0.5)

# Add titles and labels
plt.title('Number of Homes Sold Over Years with Student Loan Debt', fontsize=16)
plt.xlabel('Year', fontsize=14)
plt.ylabel('Average Number of Homes Sold (Thousands)', fontsize=14)
plt.xticks(fontsize=12)
plt.yticks(fontsize=12)
plt.legend(fontsize=12)
plt.show()





import datetime as dt
import scipy.stats as st
from scipy.stats import linregress


#Accessing data file 
file_path = 'Resources/MEHOINUSA672N.csv'
df = pd.read_csv(file_path)
df.head()

#Converting dates column format
date = df.iloc[:,0]
dt = pd.to_datetime(date)
df['Year'] = pd.DatetimeIndex(df['DATE']).year
del df['DATE']

#Renaming/Reorganizing Columns
df = df[['Year', 'MEHOINUSA672N']]
income_data = df.rename(columns={'MEHOINUSA672N': 'Median Income'})


#Plotting Data 
plot1 = income_data.plot(x='Year', y = 'Median Income', kind = 'line', color ='green')
plt.grid(True)
plt.title('Yealy Median Income ($)')
plt.ylabel('Median Income ($)')
plt.savefig('yearlymedinc.png')
plt.show()



#Summary Statistics

income_stats = income_data['Median Income'].describe()
income_stats.round(2) 



#Import houses sold data
file2_path = 'Resources/number_houses_sold.csv'
df2 = pd.read_csv(file2_path)
df2 = df2.dropna()
df2 = df2.replace(',','', regex = True)
df2 = df2.astype(int)
df2.head()


#Information of both Dataframes 
df2.info()
df.info()


#Summary Stats 
total_houses = df2['Total (USA)'].astype(int)
house_stats = total_houses.describe()
house_stats


#Merging datasets by year (1984 - 2010) length of median income data 
merge_df = pd.merge(income_data, df2, on='Year')



#Setting X and Y axis
income = merge_df['Median Income']
purchased = merge_df['Total (USA)']

#Linear Regression of Income and Homes purchased 
(slope, intercept, rvalue, pvalue, stderr) = linregress(purchased, income)
regress = purchased + slope + intercept
line_eq = 'y = ' + str(round(slope,2)) + 'x + ' + str(round(intercept,2))

#Scatter plot and linear regression plot
plt.scatter(purchased, income) 
plt.plot(purchased, regress, 'r-')
plt.annotate(line_eq,(900, 61000), color = 'gray')
plt.xticks(rotation = 'vertical')
plt.xlabel('Houses Purchased Per Year (Thous)')
plt.ylabel('Median Income per Year ($)')
plt.savefig('incomeregress.png')
plt.show()

#Peasrson correlation
correlation = st.pearsonr(income, purchased)
print(f'The correlation between both factors is {round(correlation[0],2)}')





# importing dataset 1
House_prices ='Resources/MSPUS.csv'
# House_prices = "../Resources/MSPUS.csv"
House_prices_df = pd.read_csv(House_prices)
House_prices_df.head()


# cleaning dataset 1
House_prices_df=House_prices_df.rename(columns={'MSPUS': 'Price'})
House_prices_df.head(20)


#adjusting types
House_prices_df.dtypes


# more cleaning
House_prices_df ["DATE"] = pd. to_datetime (House_prices_df ["DATE"])
House_prices_df ["Year"] = House_prices_df["DATE"].dt.year
House_prices_df.head()


average_price_by_year = House_prices_df.groupby ("Year") ["Price" ].mean().reset_index()
average_price_by_year 


# plotting dataset 1
plt.plot(average_price_by_year['Year'], average_price_by_year['Price'], marker='o')
plt.xlabel("Date")
plt.ylabel("Price")
plt.title("House Prices Over Time")
plt.grid(True)
plt.savefig('House Prices Over Time')
plt.show()


#importing dataset 2
Houses_sold = 'Resources/number_houses_sold.csv'
HS_df = pd.read_csv(Houses_sold)
HS_df.head()


#Cleaning the dataset 2
HS_df['Total by Regions'] = HS_df[['Northeast', 'MidWest', 'South', 'West']].sum(axis=1)
HS_df = HS_df.dropna(subset=['Year'])
HS_df['Year'] = HS_df['Year'].astype(int)
print("Cleaned Data:")
print(HS_df[['Year', 'Total by Regions']].head())


HS_df = HS_df.groupby('Year')['Total by Regions'].mean().reset_index()

HS_df.columns = ['Year', 'Average Total by Year (Thousands)']


print("Average Total by Year DataFrame:")
print(HS_df)


Clean_HS_df = HS_df[['Year', 'Average Total by Year (Thousands)']]
Clean_HS_df.head()


# Statistics for DS 2
print("statistics for Totals:")
Clean_HS_df['Average Total by Year (Thousands)'].describe()


#statistics for DS 1
average_price_by_year['Price'].describe()


#merging datasets
merge_df = pd.merge(average_price_by_year, Clean_HS_df, on='Year')
merge_df


#Setting X and Y axis
Price = merge_df['Price']
purchased = merge_df['Average Total by Year (Thousands)']

#Linear Regression of Income and Homes purchased 
(slope, intercept, rvalue, pvalue, stderr) = linregress(purchased, Price)
regress = purchased + slope + intercept
line_eq = 'y = ' + str(round(slope,2)) + 'x + ' + str(round(intercept,2))

#Scatter plot and linear regression plot
plt.scatter(purchased, Price) 
plt.plot(purchased, regress, 'r-')
plt.annotate(line_eq,(900, 61000), color = 'gray')
plt.xticks(rotation = 'vertical')
plt.xlabel('Houses Purchased Per Year (Thous)')
plt.ylabel('Price')
plt.savefig('Price_regression')
plt.show()

#Peasrson correlation
correlation = st.pearsonr(Price, purchased)
print(f'The correlation between both factors is {round(correlation[0],2)}')



