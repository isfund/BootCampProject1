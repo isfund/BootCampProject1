import csv
import pandas as pd
import matplotlib.pyplot as plt
import numpy as np
from scipy import stats
from scipy.stats import linregress

mortgage_data_path = "/Users/ylsstudent/Documents/Data_Analytics_Bootcamp/Projects/BootCampProject1/resources/MORTGAGE30US.csv"


mortgage_df = pd.read_csv(mortgage_data_path)


mortgage_df.dtypes


mortgage_df["DATE"] = pd.to_datetime(mortgage_df["DATE"])


mortgage_df["YEAR"] = mortgage_df["DATE"].dt.year





average_mortgage_by_year = mortgage_df.groupby("YEAR")["MORTGAGE30US"].mean().reset_index()
median_mortgage_by_year = mortgage_df.groupby("YEAR")["MORTGAGE30US"].median().reset_index()

average_mortgage_by_year.rename(columns={"MORTGAGE30US": "Average Mortgage"}, inplace=True)
median_mortgage_by_year.rename(columns={'MORTGAGE30US': 'Median Mortgage'}, inplace=True)

average_mortgage_by_year.rename(columns={"YEAR": "Year"}, inplace=True)
median_mortgage_by_year.rename(columns={'YEAR': 'Year'}, inplace=True)

average_mortgage_by_year.head()





education_data_path = "/Users/ylsstudent/Documents/Data_Analytics_Bootcamp/Projects/BootCampProject1/resources/Years of School Completed by People 25 Years and Over.csv"

education_df = pd.read_csv(education_data_path)

education_df.dtypes


for column in education_df.columns:
    education_df[column] = education_df[column].astype(str).str.replace(",", "").astype(float)

education_df.head()


education_percentage_df = education_df.copy()


for column in education_percentage_df.columns[2:]:
    education_percentage_df[column] = education_percentage_df[column] / education_percentage_df["Total"] * 100

education_percentage_df.head()


homes_data = "/Users/ylsstudent/Documents/Data_Analytics_Bootcamp/Projects/BootCampProject1/resources/Number_Houses_Sold.csv"


homes_df = pd.read_csv(homes_data)
homes_df.dtypes


homes_df.head()


for column in homes_df.columns:
    homes_df[column] = homes_df[column].astype(str).str.replace(",", "").astype(float)
homes_df.dtypes


med_avg_merged = pd.merge(average_mortgage_by_year, median_mortgage_by_year, on='Year')
med_avg_merged = pd.merge(med_avg_merged, homes_df, on='Year')


plt.figure(figsize=(12, 8))
plt.plot(med_avg_merged["Year"], med_avg_merged["Average Mortgage"], marker="o", label="Average Mortgage")
plt.plot(med_avg_merged["Year"], med_avg_merged["Median Mortgage"], marker="*", label="Median Mortgage")
plt.plot(med_avg_merged["Year"], med_avg_merged["Total (USA)"]/100, marker="<", label="Number of Homes Bought (In Hunded Thoudsands")
plt.xlabel('Year')
plt.ylabel('Mortgage Value')
plt.title('Average and Median Mortgage by Year')
plt.legend()
plt.grid(True)
plt.show()





homes_mortgage_merge = pd.merge(average_mortgage_by_year, homes_df, on="Year")

corr_mort_homes = homes_mortgage_merge[["Average Mortgage", "Total (USA)"]].corr()


corr_mort_homes


x = homes_mortgage_merge["Average Mortgage"]
y = homes_mortgage_merge["Total (USA)"]

(slope, intercept, rvalue, pvalue, stderr) = linregress(x, y)
plt.figure(figsize=(12, 8))
plt.scatter(x, y, color='blue')
plt.plot(x, slope * x + intercept, color = "red")
plt.title("Correlation between Average Mortgage Rate and Total Number of Homes Bought")
plt.xlabel("Average Mortgage Rate")
plt.ylabel("Total Number of Homes Bought")

# Show the plot
plt.show()


education_homes_df = pd.merge(education_df, homes_df, on='Year')

def perform_regression(x, y, label):
    slope, intercept, r_value, p_value, std_err = stats.linregress(x, y)
    print(f"{label} R-squared: {r_value**2}")

perform_regression(education_homes_df['0 to 4 years (Elementary)'], education_homes_df['Total (USA)'], "Elementary (0 to 4 years)")
perform_regression(education_homes_df['5 to 8 years (Elementary)'], education_homes_df['Total (USA)'], "Elementary (5 to 8 years)")
perform_regression(education_homes_df['1 to 3 years (High School)'], education_homes_df['Total (USA)'], "High School (1 to 3 years)")
perform_regression(education_homes_df['4 years (High School)'], education_homes_df['Total (USA)'], "High School (4 years)")
perform_regression(education_homes_df['1 to 3 years (College)'], education_homes_df['Total (USA)'], "College (1 to 3 years)")
perform_regression(education_homes_df['4 years or more (College)'], education_homes_df['Total (USA)'], "College (4 or more years)")












