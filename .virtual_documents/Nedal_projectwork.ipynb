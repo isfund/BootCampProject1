import matplotlib.pyplot as plt
import pandas as pd
import numpy as np
from sklearn.linear_model import LinearRegression
from scipy.stats import linregress
import scipy.stats as st


# importing dataset 1
House_prices ='Resources/MSPUS.csv'
# House_prices = "../Resources/MSPUS.csv"
House_prices_df = pd.read_csv(House_prices)
House_prices_df.head()


# cleaning dataset 1
House_prices_df=House_prices_df.rename(columns={'MSPUS': 'Price'})
House_prices_df.head(20)


#adjusting types
House_prices_df.dtypes


# more cleaning
House_prices_df ["DATE"] = pd. to_datetime (House_prices_df ["DATE"])
House_prices_df ["Year"] = House_prices_df["DATE"].dt.year
House_prices_df.head()


average_price_by_year = House_prices_df.groupby ("Year") ["Price" ].mean().reset_index()
average_price_by_year 


# plotting dataset 1
plt.plot(average_price_by_year['Year'], average_price_by_year['Price'], marker='o')
plt.xlabel("Date")
plt.ylabel("Price")
plt.title("House Prices Over Time")
plt.grid(True)
plt.savefig('House Prices Over Time')
plt.show()


#importing dataset 2
Houses_sold = 'Resources/number_houses_sold.csv'
HS_df = pd.read_csv(Houses_sold)
HS_df.head()


#Cleaning the dataset 2
HS_df['Total by Regions'] = HS_df[['Northeast', 'MidWest', 'South', 'West']].sum(axis=1)
HS_df = HS_df.dropna(subset=['Year'])
HS_df['Year'] = HS_df['Year'].astype(int)
print("Cleaned Data:")
print(HS_df[['Year', 'Total by Regions']].head())


HS_df = HS_df.groupby('Year')['Total by Regions'].mean().reset_index()

HS_df.columns = ['Year', 'Average Total by Year (Thousands)']


print("Average Total by Year DataFrame:")
print(HS_df)


Clean_HS_df = HS_df[['Year', 'Average Total by Year (Thousands)']]
Clean_HS_df.head()


# Statistics for DS 2
print("statistics for Totals:")
Clean_HS_df['Average Total by Year (Thousands)'].describe()


#statistics for DS 1
average_price_by_year['Price'].describe()


#merging datasets
merge_df = pd.merge(average_price_by_year, Clean_HS_df, on='Year')
merge_df


#Setting X and Y axis
Price = merge_df['Price']
purchased = merge_df['Average Total by Year (Thousands)']

#Linear Regression of Income and Homes purchased 
(slope, intercept, rvalue, pvalue, stderr) = linregress(purchased, Price)
regress = purchased + slope + intercept
line_eq = 'y = ' + str(round(slope,2)) + 'x + ' + str(round(intercept,2))

#Scatter plot and linear regression plot
plt.scatter(purchased, Price) 
plt.plot(purchased, regress, 'r-')
plt.annotate(line_eq,(900, 61000), color = 'gray')
plt.xticks(rotation = 'vertical')
plt.xlabel('Houses Purchased Per Year (Thous)')
plt.ylabel('Price')
plt.savefig('Price_regression')
plt.show()

#Peasrson correlation
correlation = st.pearsonr(Price, purchased)
print(f'The correlation between both factors is {round(correlation[0],2)}')









