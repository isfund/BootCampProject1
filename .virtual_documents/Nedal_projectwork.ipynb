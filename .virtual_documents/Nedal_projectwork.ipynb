import matplotlib.pyplot as plt
import pandas as pd
import numpy as np
from sklearn.linear_model import LinearRegression


# importing dataset 1
House_prices ='Resources/MSPUS.csv'
# House_prices = "../Resources/MSPUS.csv"
House_prices_df = pd.read_csv(House_prices)
House_prices_df.head()


# cleaning dataset 1
House_prices_df=House_prices_df.rename(columns={'MSPUS': 'Price'})
House_prices_df.head(20)


#adjusting types
House_prices_df.dtypes


# more cleaning
House_prices_df ["DATE"] = pd. to_datetime (House_prices_df ["DATE"])
House_prices_df ["YEAR"] = House_prices_df["DATE"].dt.year
House_prices_df.head()


average_price_by_year = House_prices_df.groupby ("YEAR") ["Price" ].mean().reset_index()
average_price_by_year 


# plotting dataset 1
plt.plot(average_price_by_year['YEAR'], average_price_by_year['Price'], marker='o')
plt.xlabel("Date")
plt.ylabel("Price")
plt.title("House Prices Over Time")
plt.grid(True)
plt.show()


#importing dataset 2
Houses_sold = 'Resources/number_houses_sold.csv'
HS_df = pd.read_csv(Houses_sold)
HS_df.head()


#Cleaning the dataset 2
HS_df['Total by Regions'] = HS_df[['Northeast', 'MidWest', 'South', 'West']].sum(axis=1)
HS_df = HS_df.dropna(subset=['Year'])
HS_df['Year'] = HS_df['Year'].astype(int)
print("Cleaned Data:")
print(HS_df[['Year', 'Total by Regions']].head())













